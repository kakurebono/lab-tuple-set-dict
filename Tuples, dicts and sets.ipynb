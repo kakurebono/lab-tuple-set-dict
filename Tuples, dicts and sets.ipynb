{
 "cells": [
  {
   "cell_type": "markdown",
   "metadata": {},
   "source": [
    "___\n",
    "\n",
    "<a href='https://www.ironhack.com/es/barcelona?utm_campaign=BCN_app_campus_brand_GA_ES_Exact&utm_source=google&utm_medium=cpc&utm_content=ironhack_ex&utm_term=ironhack&gclid=Cj0KCQjwwuD7BRDBARIsAK_5YhUdmsIB0xz9OliulRjpgd3gPK6toTjFpnY3sgzgxjSrIaxy8PC0Q8saAoQMEALw_wcB'> <img src='data:image/jpeg;base64,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' /></a>\n",
    "___"
   ]
  },
  {
   "cell_type": "markdown",
   "metadata": {},
   "source": [
    "# Lesson goals\n",
    "Learn how to use tuples, dicts and sets\n",
    "\n",
    "## Lists\n",
    "Lists are mutable. This means that the values inside of a list can be overwritten (or mutated) once the list is defined.\n",
    "\n",
    "We define lists using [] and specifying the sequence in our list as follows:"
   ]
  },
  {
   "cell_type": "code",
   "execution_count": 59,
   "metadata": {},
   "outputs": [
    {
     "data": {
      "text/plain": [
       "['dark', 'milk', 'caramel filled']"
      ]
     },
     "execution_count": 59,
     "metadata": {},
     "output_type": "execute_result"
    }
   ],
   "source": [
    "list_example_for_chocolates=['dark', 'milk', 'caramel filled']\n",
    "list_example_for_chocolates"
   ]
  },
  {
   "cell_type": "code",
   "execution_count": 61,
   "metadata": {},
   "outputs": [
    {
     "data": {
      "text/plain": [
       "['dark', 'milk', 'cheesecake']"
      ]
     },
     "execution_count": 61,
     "metadata": {},
     "output_type": "execute_result"
    }
   ],
   "source": [
    "list_example_for_chocolates[2] = 'cheesecake'\n",
    "list_example_for_chocolates"
   ]
  },
  {
   "cell_type": "markdown",
   "metadata": {},
   "source": [
    "### Trick; shift+tab is your best friend"
   ]
  },
  {
   "cell_type": "code",
   "execution_count": 25,
   "metadata": {},
   "outputs": [
    {
     "data": {
      "text/plain": [
       "3"
      ]
     },
     "execution_count": 25,
     "metadata": {},
     "output_type": "execute_result"
    }
   ],
   "source": [
    "len(list_example_for_chocolates)"
   ]
  },
  {
   "cell_type": "code",
   "execution_count": 66,
   "metadata": {},
   "outputs": [],
   "source": [
    "list_example_for_created_list=('hey ')"
   ]
  },
  {
   "cell_type": "code",
   "execution_count": 67,
   "metadata": {},
   "outputs": [
    {
     "data": {
      "text/plain": [
       "['hey']"
      ]
     },
     "execution_count": 67,
     "metadata": {},
     "output_type": "execute_result"
    }
   ],
   "source": [
    "list_example_for_created_list.split()"
   ]
  },
  {
   "cell_type": "code",
   "execution_count": 68,
   "metadata": {},
   "outputs": [
    {
     "data": {
      "text/plain": [
       "4"
      ]
     },
     "execution_count": 68,
     "metadata": {},
     "output_type": "execute_result"
    }
   ],
   "source": [
    "len(list_example_for_created_list)"
   ]
  },
  {
   "cell_type": "code",
   "execution_count": 65,
   "metadata": {},
   "outputs": [
    {
     "data": {
      "text/plain": [
       "'hey how are you doing? ready for today?'"
      ]
     },
     "execution_count": 65,
     "metadata": {},
     "output_type": "execute_result"
    }
   ],
   "source": [
    "list_example_for_created_list"
   ]
  },
  {
   "cell_type": "code",
   "execution_count": 69,
   "metadata": {},
   "outputs": [
    {
     "data": {
      "text/plain": [
       "['hey']"
      ]
     },
     "execution_count": 69,
     "metadata": {},
     "output_type": "execute_result"
    }
   ],
   "source": [
    "list_example_for_created_list=list_example_for_created_list.split()\n",
    "list_example_for_created_list"
   ]
  },
  {
   "cell_type": "code",
   "execution_count": 31,
   "metadata": {},
   "outputs": [
    {
     "data": {
      "text/plain": [
       "8"
      ]
     },
     "execution_count": 31,
     "metadata": {},
     "output_type": "execute_result"
    }
   ],
   "source": [
    "len(list_example_for_created_list)"
   ]
  },
  {
   "cell_type": "markdown",
   "metadata": {},
   "source": [
    "## Tuples\n",
    "In the previous lesson, we learned about lists. Lists are one of the most important data structures in Python. However, we cannot survive with lists alone. There are many use cases where other data structures are better suited. This lesson will introduce three other important data structures in Python.\n",
    "\n",
    "Tuples are sequences just like list. However, the main difference between tuples and lists is that tuples are immutable. This means that the values inside of a tuple cannot be overwritten (or mutated) once the tuple is defined.\n",
    "\n",
    "We define tuples using parentheses and specify the sequence in our tuple as follows:"
   ]
  },
  {
   "cell_type": "code",
   "execution_count": 70,
   "metadata": {},
   "outputs": [
    {
     "data": {
      "text/plain": [
       "('dark', 'milk', 'semi sweet')"
      ]
     },
     "execution_count": 70,
     "metadata": {},
     "output_type": "execute_result"
    }
   ],
   "source": [
    "chocolates = ('dark', 'milk', 'semi sweet')\n",
    "chocolates"
   ]
  },
  {
   "cell_type": "markdown",
   "metadata": {},
   "source": [
    "### Remember for Python the indexing starts at 0"
   ]
  },
  {
   "cell_type": "code",
   "execution_count": 72,
   "metadata": {},
   "outputs": [
    {
     "data": {
      "text/plain": [
       "'milk'"
      ]
     },
     "execution_count": 72,
     "metadata": {},
     "output_type": "execute_result"
    }
   ],
   "source": [
    "chocolates[1]"
   ]
  },
  {
   "cell_type": "markdown",
   "metadata": {},
   "source": [
    "We cannot reassign new values to a tuple."
   ]
  },
  {
   "cell_type": "code",
   "execution_count": 73,
   "metadata": {},
   "outputs": [
    {
     "ename": "TypeError",
     "evalue": "'tuple' object does not support item assignment",
     "output_type": "error",
     "traceback": [
      "\u001b[0;31m---------------------------------------------------------------------------\u001b[0m",
      "\u001b[0;31mTypeError\u001b[0m                                 Traceback (most recent call last)",
      "\u001b[0;32m<ipython-input-73-de3c91535a40>\u001b[0m in \u001b[0;36m<module>\u001b[0;34m\u001b[0m\n\u001b[0;32m----> 1\u001b[0;31m \u001b[0mchocolates\u001b[0m\u001b[0;34m[\u001b[0m\u001b[0;36m2\u001b[0m\u001b[0;34m]\u001b[0m \u001b[0;34m=\u001b[0m \u001b[0;34m'caramel filled'\u001b[0m\u001b[0;34m\u001b[0m\u001b[0;34m\u001b[0m\u001b[0m\n\u001b[0m",
      "\u001b[0;31mTypeError\u001b[0m: 'tuple' object does not support item assignment"
     ]
    }
   ],
   "source": [
    "chocolates[2] = 'caramel filled'"
   ]
  },
  {
   "cell_type": "markdown",
   "metadata": {},
   "source": [
    "Similar to lists, we can find the length of a tuple using the len() function. We will also get an out of bounds error if we try to access a tuple position that is beyond the tuple's length.\n"
   ]
  },
  {
   "cell_type": "code",
   "execution_count": 35,
   "metadata": {},
   "outputs": [
    {
     "data": {
      "text/plain": [
       "3"
      ]
     },
     "execution_count": 35,
     "metadata": {},
     "output_type": "execute_result"
    }
   ],
   "source": [
    "len(chocolates)"
   ]
  },
  {
   "cell_type": "markdown",
   "metadata": {},
   "source": [
    "## Dicts\n",
    "Sometimes we don't just want to store data in a sequence. There are cases where we want to easily retrieve our data rather than iterate through an entire list. There are also cases where we need to label our data. For example, the phone numbers stored in our phone are labeled using the name of our contacts. In these cases, it is better to use a dict. Dicts are a sequence of key value pairs. We store the data behind the scenes in a hash map. This means that we use the key to generate a unique index (called a hash) and store the value in the location marked by that index. This makes retrieval very fast.\n",
    "\n",
    "We can manually create a dict by specifying all keys and values separated by a colon within curly braces."
   ]
  },
  {
   "cell_type": "code",
   "execution_count": 74,
   "metadata": {},
   "outputs": [],
   "source": [
    "contacts = {'John': '312-555-1234', 'Paul': '312-555-3123', 'George': '312-555-3333', 'Ringo': '312-555-2222'}"
   ]
  },
  {
   "cell_type": "code",
   "execution_count": 75,
   "metadata": {},
   "outputs": [
    {
     "data": {
      "text/plain": [
       "dict_keys(['John', 'Paul', 'George', 'Ringo'])"
      ]
     },
     "execution_count": 75,
     "metadata": {},
     "output_type": "execute_result"
    }
   ],
   "source": [
    "contacts.keys()"
   ]
  },
  {
   "cell_type": "code",
   "execution_count": 76,
   "metadata": {},
   "outputs": [
    {
     "data": {
      "text/plain": [
       "dict_values(['312-555-1234', '312-555-3123', '312-555-3333', '312-555-2222'])"
      ]
     },
     "execution_count": 76,
     "metadata": {},
     "output_type": "execute_result"
    }
   ],
   "source": [
    "contacts.values()"
   ]
  },
  {
   "cell_type": "code",
   "execution_count": 77,
   "metadata": {},
   "outputs": [
    {
     "data": {
      "text/plain": [
       "dict_items([('John', '312-555-1234'), ('Paul', '312-555-3123'), ('George', '312-555-3333'), ('Ringo', '312-555-2222')])"
      ]
     },
     "execution_count": 77,
     "metadata": {},
     "output_type": "execute_result"
    }
   ],
   "source": [
    "contacts.items()"
   ]
  },
  {
   "cell_type": "markdown",
   "metadata": {},
   "source": [
    "We can change a value by reassigning a new value to a key"
   ]
  },
  {
   "cell_type": "code",
   "execution_count": 80,
   "metadata": {},
   "outputs": [],
   "source": [
    "contacts['Paul'] = 'Ironhack'"
   ]
  },
  {
   "cell_type": "code",
   "execution_count": 81,
   "metadata": {},
   "outputs": [
    {
     "data": {
      "text/plain": [
       "dict_items([('John', '312-555-1234'), ('Paul', 'Ironhack'), ('George', '312-555-3333'), ('Ringo', '312-555-2222')])"
      ]
     },
     "execution_count": 81,
     "metadata": {},
     "output_type": "execute_result"
    }
   ],
   "source": [
    "contacts.items()"
   ]
  },
  {
   "cell_type": "code",
   "execution_count": 84,
   "metadata": {},
   "outputs": [
    {
     "ename": "KeyError",
     "evalue": "'John'",
     "output_type": "error",
     "traceback": [
      "\u001b[0;31m---------------------------------------------------------------------------\u001b[0m",
      "\u001b[0;31mKeyError\u001b[0m                                  Traceback (most recent call last)",
      "\u001b[0;32m<ipython-input-84-50a02d399809>\u001b[0m in \u001b[0;36m<module>\u001b[0;34m\u001b[0m\n\u001b[0;32m----> 1\u001b[0;31m \u001b[0;32mdel\u001b[0m \u001b[0mcontacts\u001b[0m\u001b[0;34m[\u001b[0m\u001b[0;34m'John'\u001b[0m\u001b[0;34m]\u001b[0m\u001b[0;34m\u001b[0m\u001b[0;34m\u001b[0m\u001b[0m\n\u001b[0m",
      "\u001b[0;31mKeyError\u001b[0m: 'John'"
     ]
    }
   ],
   "source": [
    "del contacts['John']"
   ]
  },
  {
   "cell_type": "code",
   "execution_count": 83,
   "metadata": {},
   "outputs": [
    {
     "data": {
      "text/plain": [
       "dict_items([('Paul', 'Ironhack'), ('George', '312-555-3333'), ('Ringo', '312-555-2222')])"
      ]
     },
     "execution_count": 83,
     "metadata": {},
     "output_type": "execute_result"
    }
   ],
   "source": [
    "contacts.items()"
   ]
  },
  {
   "cell_type": "code",
   "execution_count": 36,
   "metadata": {},
   "outputs": [
    {
     "data": {
      "text/plain": [
       "{}"
      ]
     },
     "execution_count": 36,
     "metadata": {},
     "output_type": "execute_result"
    }
   ],
   "source": [
    "empty_dict = {}\n",
    "empty_dict"
   ]
  },
  {
   "cell_type": "code",
   "execution_count": 85,
   "metadata": {},
   "outputs": [
    {
     "data": {
      "text/plain": [
       "{'Paul': 'Ironhack', 'George': '312-555-3333', 'Ringo': '312-555-2222'}"
      ]
     },
     "execution_count": 85,
     "metadata": {},
     "output_type": "execute_result"
    }
   ],
   "source": [
    "contacts"
   ]
  },
  {
   "cell_type": "code",
   "execution_count": 86,
   "metadata": {},
   "outputs": [
    {
     "name": "stdout",
     "output_type": "stream",
     "text": [
      "Paul\n",
      "George\n",
      "Ringo\n"
     ]
    }
   ],
   "source": [
    "#.values\n",
    "for i in contacts.keys():\n",
    "     print(i)"
   ]
  },
  {
   "cell_type": "code",
   "execution_count": 87,
   "metadata": {},
   "outputs": [
    {
     "ename": "TypeError",
     "evalue": "can only concatenate tuple (not \"str\") to tuple",
     "output_type": "error",
     "traceback": [
      "\u001b[0;31m---------------------------------------------------------------------------\u001b[0m",
      "\u001b[0;31mTypeError\u001b[0m                                 Traceback (most recent call last)",
      "\u001b[0;32m<ipython-input-87-8e6dd4413c4b>\u001b[0m in \u001b[0;36m<module>\u001b[0;34m\u001b[0m\n\u001b[1;32m      1\u001b[0m \u001b[0;32mfor\u001b[0m \u001b[0mk\u001b[0m \u001b[0;32min\u001b[0m \u001b[0mcontacts\u001b[0m\u001b[0;34m.\u001b[0m\u001b[0mitems\u001b[0m\u001b[0;34m(\u001b[0m\u001b[0;34m)\u001b[0m\u001b[0;34m:\u001b[0m\u001b[0;34m\u001b[0m\u001b[0;34m\u001b[0m\u001b[0m\n\u001b[0;32m----> 2\u001b[0;31m      \u001b[0mprint\u001b[0m\u001b[0;34m(\u001b[0m\u001b[0mk\u001b[0m\u001b[0;34m+\u001b[0m\u001b[0;34m\": Ironhack rocks \"\u001b[0m\u001b[0;34m+\u001b[0m\u001b[0mv\u001b[0m\u001b[0;34m)\u001b[0m\u001b[0;34m\u001b[0m\u001b[0;34m\u001b[0m\u001b[0m\n\u001b[0m",
      "\u001b[0;31mTypeError\u001b[0m: can only concatenate tuple (not \"str\") to tuple"
     ]
    }
   ],
   "source": [
    "for k in contacts.items():\n",
    "     print(k+\": Ironhack rocks \"+v)"
   ]
  },
  {
   "cell_type": "code",
   "execution_count": 89,
   "metadata": {},
   "outputs": [
    {
     "name": "stdout",
     "output_type": "stream",
     "text": [
      "Paul: Ironhack rocks Ironhack\n",
      "George: Ironhack rocks 312-555-3333\n",
      "Ringo: Ironhack rocks 312-555-2222\n"
     ]
    }
   ],
   "source": [
    "for LALALLAL, v in contacts.items():\n",
    "     print(LALALLAL+\": Ironhack rocks \"+v)"
   ]
  },
  {
   "cell_type": "markdown",
   "metadata": {},
   "source": [
    "## Sets\n",
    "Sets are unordered collections of unique elements. Similar to lists, they are also mutable. This means that we can insert and delete values to our set.\n",
    "\n",
    "We can define an empty set as follows:"
   ]
  },
  {
   "cell_type": "code",
   "execution_count": 90,
   "metadata": {},
   "outputs": [],
   "source": [
    "letters = set()"
   ]
  },
  {
   "cell_type": "code",
   "execution_count": 91,
   "metadata": {},
   "outputs": [
    {
     "data": {
      "text/plain": [
       "set()"
      ]
     },
     "execution_count": 91,
     "metadata": {},
     "output_type": "execute_result"
    }
   ],
   "source": [
    "letters"
   ]
  },
  {
   "cell_type": "code",
   "execution_count": 94,
   "metadata": {},
   "outputs": [],
   "source": [
    "letters.add('a')"
   ]
  },
  {
   "cell_type": "code",
   "execution_count": 95,
   "metadata": {},
   "outputs": [
    {
     "data": {
      "text/plain": [
       "{'a'}"
      ]
     },
     "execution_count": 95,
     "metadata": {},
     "output_type": "execute_result"
    }
   ],
   "source": [
    "letters"
   ]
  },
  {
   "cell_type": "code",
   "execution_count": 96,
   "metadata": {},
   "outputs": [],
   "source": [
    "letters.remove('a')"
   ]
  },
  {
   "cell_type": "code",
   "execution_count": 97,
   "metadata": {},
   "outputs": [
    {
     "data": {
      "text/plain": [
       "set()"
      ]
     },
     "execution_count": 97,
     "metadata": {},
     "output_type": "execute_result"
    }
   ],
   "source": [
    "letters"
   ]
  },
  {
   "cell_type": "code",
   "execution_count": 98,
   "metadata": {},
   "outputs": [
    {
     "ename": "KeyError",
     "evalue": "'a'",
     "output_type": "error",
     "traceback": [
      "\u001b[0;31m---------------------------------------------------------------------------\u001b[0m",
      "\u001b[0;31mKeyError\u001b[0m                                  Traceback (most recent call last)",
      "\u001b[0;32m<ipython-input-98-1cb18be60f9c>\u001b[0m in \u001b[0;36m<module>\u001b[0;34m\u001b[0m\n\u001b[0;32m----> 1\u001b[0;31m \u001b[0mletters\u001b[0m\u001b[0;34m.\u001b[0m\u001b[0mremove\u001b[0m\u001b[0;34m(\u001b[0m\u001b[0;34m'a'\u001b[0m\u001b[0;34m)\u001b[0m\u001b[0;34m\u001b[0m\u001b[0;34m\u001b[0m\u001b[0m\n\u001b[0m",
      "\u001b[0;31mKeyError\u001b[0m: 'a'"
     ]
    }
   ],
   "source": [
    "letters.remove('a')"
   ]
  },
  {
   "cell_type": "markdown",
   "metadata": {},
   "source": [
    "### Union, Intersection, and Difference\n",
    "The fact that sets contain unique values and are not ordered allows us to compare sets and find their union, intersection, and difference.\n",
    "\n",
    "We will look at examples of all three operations in the code block below."
   ]
  },
  {
   "cell_type": "code",
   "execution_count": 99,
   "metadata": {},
   "outputs": [],
   "source": [
    "# We start off defining both sets. Note that we have to use both parentheses and brackets.\n",
    "girl_names = set(['Mary', 'Madison', 'Logan', 'Joanna'])\n",
    "boy_names = set(['John', 'Alexander', 'Logan', 'Madison'])"
   ]
  },
  {
   "cell_type": "code",
   "execution_count": 100,
   "metadata": {},
   "outputs": [
    {
     "name": "stdout",
     "output_type": "stream",
     "text": [
      "{'Mary', 'John', 'Logan', 'Alexander', 'Joanna', 'Madison'}\n"
     ]
    }
   ],
   "source": [
    "# We find the list of all names without duplicates by finding the union of both sets\n",
    "all_names = boy_names.union(girl_names)\n",
    "print(all_names)"
   ]
  },
  {
   "cell_type": "code",
   "execution_count": 101,
   "metadata": {},
   "outputs": [
    {
     "name": "stdout",
     "output_type": "stream",
     "text": [
      "{'Alexander', 'John'}\n"
     ]
    }
   ],
   "source": [
    "# We find the difference between both sets by subtracting one set from the other\n",
    "boy_only_names = boy_names - girl_names\n",
    "print(boy_only_names)"
   ]
  },
  {
   "cell_type": "markdown",
   "metadata": {},
   "source": [
    "# Thank you for your attention =)\n"
   ]
  },
  {
   "cell_type": "markdown",
   "metadata": {},
   "source": [
    "\n",
    "<a href='https://www.ironhack.com/es/barcelona?utm_campaign=BCN_app_campus_brand_GA_ES_Exact&utm_source=google&utm_medium=cpc&utm_content=ironhack_ex&utm_term=ironhack&gclid=Cj0KCQjwwuD7BRDBARIsAK_5YhUdmsIB0xz9OliulRjpgd3gPK6toTjFpnY3sgzgxjSrIaxy8PC0Q8saAoQMEALw_wcB'> <img src='https://media.giphy.com/media/LOWVCh18JmzRVvnYWt/giphy.gif' /></a>"
   ]
  },
  {
   "cell_type": "code",
   "execution_count": null,
   "metadata": {},
   "outputs": [],
   "source": []
  },
  {
   "cell_type": "code",
   "execution_count": null,
   "metadata": {},
   "outputs": [],
   "source": []
  }
 ],
 "metadata": {
  "kernelspec": {
   "display_name": "Python 3",
   "language": "python",
   "name": "python3"
  },
  "language_info": {
   "codemirror_mode": {
    "name": "ipython",
    "version": 3
   },
   "file_extension": ".py",
   "mimetype": "text/x-python",
   "name": "python",
   "nbconvert_exporter": "python",
   "pygments_lexer": "ipython3",
   "version": "3.7.4"
  }
 },
 "nbformat": 4,
 "nbformat_minor": 4
}
